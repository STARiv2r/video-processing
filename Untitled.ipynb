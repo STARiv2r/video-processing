{
 "cells": [
  {
   "cell_type": "code",
   "execution_count": null,
   "metadata": {},
   "outputs": [],
   "source": [
    "!pip install opencv-python"
   ]
  },
  {
   "cell_type": "code",
   "execution_count": null,
   "metadata": {},
   "outputs": [],
   "source": [
    "import numpy as np\n",
    "import cv2"
   ]
  },
  {
   "cell_type": "code",
   "execution_count": null,
   "metadata": {},
   "outputs": [],
   "source": [
    "def show_img(image, title =\"image\"):\n",
    "    cv2.imshow(title, image)\n",
    "    cv2.waitKey(0)\n",
    "    cv2.destroyAllWindows()"
   ]
  },
  {
   "cell_type": "code",
   "execution_count": null,
   "metadata": {},
   "outputs": [],
   "source": [
    "def gaussian_filter(image, nsize):\n",
    "    filter = np.zeros(nsize, nsize)\n",
    "    for i in image:\n",
    "        \n",
    "    \n",
    "    "
   ]
  },
  {
   "cell_type": "code",
   "execution_count": null,
   "metadata": {},
   "outputs": [],
   "source": [
    "def median_filter(image, nsize):\n",
    "    filter = np.zeros(nsize, nsize)\n",
    "    \n",
    "    "
   ]
  },
  {
   "cell_type": "code",
   "execution_count": null,
   "metadata": {},
   "outputs": [],
   "source": [
    "#File\n",
    "\n",
    "fig = \"HW3 Image Samples/Noise Filtering/Fig0503(original_pattern).jpg\"\n",
    "fig_gaussian = \"HW3 Image Samples/Noise Filtering/Fig0504(a)(gaussian-noise).jpg\"\n",
    "fig_saltAndPepper = \"HW3 Image Samples/Noise Filtering/Fig0504(i)(salt-pepper-noise).jpg\"\n",
    "\n",
    "lena_noise = \"HW3 Image Samples/Noise Filtering/Lena_noise.png\"\n",
    "lena_gaussian = \"HW3 Image Samples/Noise Filtering/Gaussian noise.png\"\n",
    "lena_saltAndPepper = \"HW3 Image Samples/Noise Filtering/Salt&pepper noise.png\""
   ]
  },
  {
   "cell_type": "code",
   "execution_count": null,
   "metadata": {},
   "outputs": [],
   "source": []
  }
 ],
 "metadata": {
  "kernelspec": {
   "display_name": "Python 3",
   "language": "python",
   "name": "python3"
  },
  "language_info": {
   "codemirror_mode": {
    "name": "ipython",
    "version": 3
   },
   "file_extension": ".py",
   "mimetype": "text/x-python",
   "name": "python",
   "nbconvert_exporter": "python",
   "pygments_lexer": "ipython3",
   "version": "3.7.4"
  }
 },
 "nbformat": 4,
 "nbformat_minor": 2
}
